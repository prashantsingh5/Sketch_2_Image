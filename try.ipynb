{
 "cells": [
  {
   "cell_type": "code",
   "execution_count": 5,
   "metadata": {},
   "outputs": [
    {
     "name": "stdout",
     "output_type": "stream",
     "text": [
      "Sketch generated and saved at: C:\\Users\\pytorch\\Desktop\\sketch_to_image\\pix2pix_sketch\\sketch_test4.jpg\n"
     ]
    }
   ],
   "source": [
    "import cv2\n",
    "import os\n",
    "\n",
    "# Path to the input image\n",
    "image_path = r'C:\\Users\\pytorch\\Desktop\\sketch_to_image\\pix2pix_sketch\\test4.jpg'  # Replace with your image path\n",
    "\n",
    "# Extract the directory and filename from the image path\n",
    "image_dir = os.path.dirname(image_path)\n",
    "image_filename = os.path.basename(image_path)\n",
    "image_name, image_ext = os.path.splitext(image_filename)\n",
    "\n",
    "# Load the realistic image\n",
    "image = cv2.imread(image_path)\n",
    "\n",
    "if image is not None:  # Check if the image is loaded correctly\n",
    "    # Convert the image to grayscale\n",
    "    gray_image = cv2.cvtColor(image, cv2.COLOR_BGR2GRAY)\n",
    "\n",
    "    # Invert the grayscale image\n",
    "    inverted_image = 255 - gray_image\n",
    "\n",
    "    # Blur the inverted image using GaussianBlur\n",
    "    blurred_image = cv2.GaussianBlur(inverted_image, (21, 21), 0)\n",
    "\n",
    "    # Invert the blurred image\n",
    "    inverted_blurred = 255 - blurred_image\n",
    "\n",
    "    # Create the pencil sketch by combining the grayscale image with the inverted blurred image\n",
    "    sketch = cv2.divide(gray_image, inverted_blurred, scale=256.0)\n",
    "\n",
    "    # Ensure the sketch has the same dimensions as the original image (this happens naturally)\n",
    "    assert sketch.shape == gray_image.shape, \"The sketch and original image should have the same dimensions\"\n",
    "\n",
    "    # Save the sketch image in the same directory with a modified name\n",
    "    sketch_path = os.path.join(image_dir, f'sketch_{image_name}{image_ext}')\n",
    "    cv2.imwrite(sketch_path, sketch)\n",
    "\n",
    "    print(f\"Sketch generated and saved at: {sketch_path}\")\n",
    "else:\n",
    "    print(f\"Failed to load image: {image_path}\")\n"
   ]
  },
  {
   "cell_type": "code",
   "execution_count": 9,
   "metadata": {},
   "outputs": [
    {
     "name": "stdout",
     "output_type": "stream",
     "text": [
      "Combined image saved at: C:\\Users\\pytorch\\Desktop\\sketch_to_image\\pix2pix_sketch\\sketch_combined_test4.jpg\n"
     ]
    }
   ],
   "source": [
    "from PIL import Image\n",
    "\n",
    "# Load the input image (sketch or any other image)\n",
    "input_image_path = r'C:\\Users\\pytorch\\Desktop\\sketch_to_image\\pix2pix_sketch\\sketch_test4.jpg'  # Replace with your image path\n",
    "input_image = Image.open(input_image_path)\n",
    "\n",
    "# Get the dimensions of the input image\n",
    "width, height = input_image.size\n",
    "\n",
    "# Create a black image with the same dimensions as the input image\n",
    "black_image = Image.new('RGB', (width, height), (0, 0, 0))\n",
    "\n",
    "# Create a new image with double the width to concatenate the input and black image side by side\n",
    "combined_image = Image.new('RGB', (width * 2, height))\n",
    "\n",
    "# Paste the input image on the left and the black image on the right\n",
    "combined_image.paste(input_image, (0, 0))         # Paste the input image on the left\n",
    "combined_image.paste(black_image, (width, 0))     # Paste the black image on the right\n",
    "\n",
    "# Save the combined image\n",
    "output_image_path = r'C:\\Users\\pytorch\\Desktop\\sketch_to_image\\pix2pix_sketch\\sketch_combined_test4.jpg'  # Modify as needed\n",
    "combined_image.save(output_image_path)\n",
    "\n",
    "print(f\"Combined image saved at: {output_image_path}\")\n"
   ]
  },
  {
   "cell_type": "code",
   "execution_count": null,
   "metadata": {},
   "outputs": [],
   "source": []
  }
 ],
 "metadata": {
  "kernelspec": {
   "display_name": "Python 3",
   "language": "python",
   "name": "python3"
  },
  "language_info": {
   "codemirror_mode": {
    "name": "ipython",
    "version": 3
   },
   "file_extension": ".py",
   "mimetype": "text/x-python",
   "name": "python",
   "nbconvert_exporter": "python",
   "pygments_lexer": "ipython3",
   "version": "3.12.3"
  }
 },
 "nbformat": 4,
 "nbformat_minor": 2
}
